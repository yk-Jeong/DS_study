{
  "nbformat": 4,
  "nbformat_minor": 0,
  "metadata": {
    "colab": {
      "provenance": [],
      "authorship_tag": "ABX9TyP8TtrUjH8Shsjer7E60sTJ",
      "include_colab_link": true
    },
    "kernelspec": {
      "name": "python3",
      "display_name": "Python 3"
    },
    "language_info": {
      "name": "python"
    }
  },
  "cells": [
    {
      "cell_type": "markdown",
      "metadata": {
        "id": "view-in-github",
        "colab_type": "text"
      },
      "source": [
        "<a href=\"https://colab.research.google.com/github/yk-Jeong/DS_study/blob/main/%ED%8C%8C%EC%9D%B4%EC%8D%AC%EC%8A%A4%ED%84%B0%EB%94%94_27%EC%A3%BC%EC%B0%A8(20221118).ipynb\" target=\"_parent\"><img src=\"https://colab.research.google.com/assets/colab-badge.svg\" alt=\"Open In Colab\"/></a>"
      ]
    },
    {
      "cell_type": "code",
      "execution_count": null,
      "metadata": {
        "id": "BN2jXMMl3r2A"
      },
      "outputs": [],
      "source": [
        "class Robot:\n",
        "  # power = 0 (init에서 초기화)\n",
        "  # name = \"\"\n",
        "\n",
        "  # 생성자\n",
        "  def __init__(self, in_name, in_power):\n",
        "    self.name = in_name \n",
        "    self.power = in_power\n",
        "\n",
        "  def incPower(self, a):\n",
        "\n",
        "    print(\"self.power의 값:\", self.power)\n",
        "    print(\"a의 값:\", a)\n",
        "    print()\n",
        "\n",
        "    self.power += a"
      ]
    },
    {
      "cell_type": "code",
      "source": [
        "r1 = Robot('마징가', 10)\n",
        "# r1.name = '짱가'\n",
        "r1.incPower(500)\n",
        "\n",
        "print(r1.name)\n",
        "print(r1.power)"
      ],
      "metadata": {
        "colab": {
          "base_uri": "https://localhost:8080/"
        },
        "id": "fwxcxTJd37wF",
        "outputId": "8024d16d-493e-48b2-81e2-0a1b918d3cdc"
      },
      "execution_count": null,
      "outputs": [
        {
          "output_type": "stream",
          "name": "stdout",
          "text": [
            "self.power의 값: 10\n",
            "a의 값: 500\n",
            "\n",
            "마징가\n",
            "510\n"
          ]
        }
      ]
    },
    {
      "cell_type": "code",
      "source": [
        "class Robot:\n",
        "  number = 0 # class variable\n",
        "  \n",
        "  def __init__(self, name):\n",
        "    self.number += 1\n",
        "    self.name = name # instance variable)"
      ],
      "metadata": {
        "id": "lO51OjoF76Ll"
      },
      "execution_count": null,
      "outputs": []
    },
    {
      "cell_type": "code",
      "source": [
        "r1 = Robot(\"짱가\")  # r1 인스턴스 생성\n",
        "\n",
        "print(r1.number)  # 모든 로봇이 공유\n",
        "print(r1.name)  # r1만 공유\n",
        "\n",
        "r2 = Robot(\"마징가\") # r2 인스턴스 생성\n",
        "print(r2.number)\n",
        "print(r2.name)\n",
        "\n",
        "print(r1.number)\n",
        "print(Robot.number)"
      ],
      "metadata": {
        "colab": {
          "base_uri": "https://localhost:8080/"
        },
        "id": "8-3F02tS-Bne",
        "outputId": "e85d5cf2-c61a-4de6-cadb-d987fb40e00d"
      },
      "execution_count": null,
      "outputs": [
        {
          "output_type": "stream",
          "name": "stdout",
          "text": [
            "1\n",
            "짱가\n",
            "1\n",
            "마징가\n",
            "1\n",
            "0\n"
          ]
        }
      ]
    }
  ]
}